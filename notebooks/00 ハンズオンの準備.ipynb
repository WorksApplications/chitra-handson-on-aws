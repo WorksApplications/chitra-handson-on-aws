{
 "cells": [
  {
   "cell_type": "markdown",
   "id": "d22dba2b-468a-41af-a626-b5337dce9619",
   "metadata": {
    "tags": []
   },
   "source": [
    "# chiTra ハンズオン on AWS - 準備"
   ]
  },
  {
   "cell_type": "markdown",
   "id": "d7699f3f-fbee-47f9-a24f-86bdd39da6e1",
   "metadata": {},
   "source": [
    "このノートブックでは、\n",
    "- Jupyterノートブックの操作に慣れる\n",
    "- ハンズオンで利用するライブラリをインストールする\n",
    "\n",
    "ことがゴールです。"
   ]
  },
  {
   "cell_type": "markdown",
   "id": "af44aed9-4b99-4870-9423-3c843882f662",
   "metadata": {
    "jp-MarkdownHeadingCollapsed": true,
    "tags": []
   },
   "source": [
    "## Jupyter ノートブックについて"
   ]
  },
  {
   "cell_type": "markdown",
   "id": "148f3ff6-146d-47ea-af29-de72b5473ef3",
   "metadata": {},
   "source": [
    "本ハンズオンは、これのような [Jupyterノートブック](https://jupyter.org/) を使って行います。\n",
    "ノートブックではコードの実行や結果の確認などを一つのドキュメントで行い、記録することができます。"
   ]
  },
  {
   "cell_type": "markdown",
   "id": "03be6cc7-4e89-46b4-95ce-191deeecd92c",
   "metadata": {},
   "source": [
    "下記のPythonコードを実行してみましょう。\n",
    "セルをクリックして選択し、 `Shift+Enter` キー、もしくはツールバーの実行ボタン（再生マーク）を押します。"
   ]
  },
  {
   "cell_type": "code",
   "execution_count": null,
   "id": "d25a0a38-f51b-430a-ba53-3e4f41070e77",
   "metadata": {},
   "outputs": [],
   "source": [
    "a = 10\n",
    "b = 20\n",
    "c = a + b\n",
    "print(a, b, c)"
   ]
  },
  {
   "cell_type": "markdown",
   "id": "3de8669c-b77a-45a7-8684-bb56f3e99ba6",
   "metadata": {},
   "source": [
    "本ハンズオンではテキストを主に扱います。\n",
    "Python言語でのテキストの扱いを少し見ておきます。"
   ]
  },
  {
   "cell_type": "code",
   "execution_count": null,
   "id": "cc54f9bd-3572-4578-abc3-f989a8085cb8",
   "metadata": {},
   "outputs": [],
   "source": [
    "# テキストは引用符「\"」もしくは「'」で括る\n",
    "text1 = \"吾輩は猫である。\"\n",
    "text2 = '名前はまだない。'\n",
    "\n",
    "# 連結\n",
    "text = text1 + text2\n",
    "print(text)\n",
    "\n",
    "# 一部分を取り出す（[3:11]で 4-11文字目の指定）\n",
    "substring = text[3:11]\n",
    "print(substring)"
   ]
  },
  {
   "cell_type": "markdown",
   "id": "e9f4fd9f-d69d-4375-9223-7fdfb1c647da",
   "metadata": {},
   "source": [
    "以降のノートブックでも、上のようにテキストを処理している部分は、好きな文章に置き換えて実行していただいて大丈夫です。\n",
    "上のセル内のテキストや範囲指定も適宜変更して実行してみてください。\n",
    "\n",
    "なお、右クリックやツールバーからセルの追加・コピーも可能です。\n",
    "実行結果を残しておきたい場合などはそちらも活用してください。"
   ]
  },
  {
   "cell_type": "markdown",
   "id": "ff9a68e7-e394-4ed8-9b77-56a1184aac43",
   "metadata": {
    "jp-MarkdownHeadingCollapsed": true,
    "tags": []
   },
   "source": [
    "## ライブラリのインストール"
   ]
  },
  {
   "cell_type": "markdown",
   "id": "c330accd-6a60-4a49-bdef-3534817c7238",
   "metadata": {},
   "source": [
    "本ハンズオンで使用するライブラリをインストールします。\n",
    "\n",
    "（注：一部のライブラリでノートブックの再起動が必要になることがあるため、ここで行います。すでに次のノートブックを開いている場合は、インストール後にそのノートブックでツールバーもしくは右クリックから \"Restart Kernel\" を実行してください。）"
   ]
  },
  {
   "cell_type": "code",
   "execution_count": null,
   "id": "f95d430a-c9a1-4372-a328-d01f3d2bc42e",
   "metadata": {
    "scrolled": true,
    "tags": []
   },
   "outputs": [],
   "source": [
    "# chiTra ライブラリ (Sudachiを含む)\n",
    "%pip install sudachitra\n",
    "# Sudachiのみインストールする場合は\n",
    "# %pip install sudachipy\n",
    "\n",
    "# SageMaker / S3 へアクセスするためのライブラリ\n",
    "%pip install sagemaker datasets[s3] -U\n",
    "\n",
    "# transformersのバックエンドなど\n",
    "%pip install sentencepiece torch"
   ]
  }
 ],
 "metadata": {
  "kernelspec": {
   "display_name": "default:Python",
   "language": "python",
   "name": "conda-env-default-py"
  },
  "language_info": {
   "codemirror_mode": {
    "name": "ipython",
    "version": 3
   },
   "file_extension": ".py",
   "mimetype": "text/x-python",
   "name": "python",
   "nbconvert_exporter": "python",
   "pygments_lexer": "ipython3",
   "version": "3.9.13"
  }
 },
 "nbformat": 4,
 "nbformat_minor": 5
}
